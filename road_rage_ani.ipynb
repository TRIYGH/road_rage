{
 "cells": [
  {
   "cell_type": "code",
   "execution_count": null,
   "metadata": {
    "collapsed": true
   },
   "outputs": [],
   "source": [
    "import numpy as np\n",
    "import matplotlib.animation as animation\n",
    "import seaborn\n",
    "import statistics as st\n",
    "import random\n",
    "import matplotlib.pyplot as plt\n"
   ]
  },
  {
   "cell_type": "code",
   "execution_count": null,
   "metadata": {
    "collapsed": true
   },
   "outputs": [],
   "source": [
    "cars = []\n",
    "diff_bt_cars = []\n",
    "speeds = []\n",
    "avg_speed = 0\n",
    "p = []\n",
    "z = []\n",
    "\n",
    "for i in range(30):\n",
    "    cars.append([0, 2, (12+(7*i))])       # [ speed, accel, loc ]\n",
    "\n",
    "num_cars = len(cars)"
   ]
  },
  {
   "cell_type": "code",
   "execution_count": null,
   "metadata": {
    "collapsed": true
   },
   "outputs": [],
   "source": [
    "def animate(i=0):\n",
    "    main()\n",
    "    p = [int(car[0]) for car in cars]\n",
    "    z = [int(car[2]) for car in cars]\n",
    "    points = list(zip(z, p))\n",
    "    paths.set_offsets(points)\n",
    "    return paths,"
   ]
  },
  {
   "cell_type": "code",
   "execution_count": null,
   "metadata": {
    "collapsed": true
   },
   "outputs": [],
   "source": [
    "def plot_it(x, y):\n",
    "    plt.title('Car Traffic Simulation (# of cars = 30)')\n",
    "    plt.xlabel('Distance bt Cars')\n",
    "    plt.ylabel('Velocity (km/h)')\n",
    "    plt.xlim((0, 100))\n",
    "    plt.ylim((0, 34))\n",
    "    plt.scatter(x, y, marker='s', cmap='set1', alpha=0.5)\n",
    "    plt.show()"
   ]
  },
  {
   "cell_type": "code",
   "execution_count": null,
   "metadata": {
    "collapsed": true
   },
   "outputs": [],
   "source": [
    "def plot_them():\n",
    "    for i in range(1, num_cars):\n",
    "        diff_bt_cars.append(cars[i][2] - cars[i-1][2] - 4)\n",
    "        speeds.append(cars[i][0])"
   ]
  },
  {
   "cell_type": "code",
   "execution_count": null,
   "metadata": {
    "collapsed": true
   },
   "outputs": [],
   "source": [
    "def averages_graph(avgs_list):\n",
    "    plt.title('Average Speeds')\n",
    "    plt.hist(avgs_list)\n",
    "    plt.show()"
   ]
  },
  {
   "cell_type": "code",
   "execution_count": null,
   "metadata": {
    "collapsed": true
   },
   "outputs": [],
   "source": [
    "def std_dev(avgs_list):\n",
    "    plt.hist(avgs_list)\n",
    "    mean = st.mean(avgs_list)\n",
    "    stdev = st.stdev(avgs_list)\n",
    "    ymin, ymax = plt.ylim()\n",
    "\n",
    "    plt.vlines(mean, ymin, ymax, color='red')\n",
    "    plt.vlines([mean - 2 * stdev, mean - stdev, mean + stdev, mean + 2 * stdev],\n",
    "               ymin, ymax, color='red', linestyles='dashed')\n",
    "    plt.show()"
   ]
  },
  {
   "cell_type": "code",
   "execution_count": null,
   "metadata": {
    "collapsed": true
   },
   "outputs": [],
   "source": [
    "def print_them():\n",
    "    print(\"\\n\"*65)\n",
    "    spaces = cars[0][2]\n",
    "    print(' '*spaces, end='')                   # print FIRST car\n",
    "    print('0'*6, end='')\n",
    "\n",
    "    for i in range(1, num_cars):\n",
    "        spaces = cars[i][2] - cars[i-1][2] - 5    # print spaces\n",
    "        print(' '*spaces, end='')\n",
    "        if i < 10:\n",
    "            print(str(i)*6, end='')\n",
    "        else:                                   # print car x\n",
    "            print(str(i)*3, end='')\n",
    "\n",
    "    spaces = cars[29][2] - cars[28][2] - 5    # print spaces\n",
    "    print(' '*spaces, end='')\n",
    "    print('30'*3)"
   ]
  },
  {
   "cell_type": "code",
   "execution_count": null,
   "metadata": {
    "collapsed": true
   },
   "outputs": [],
   "source": [
    "def calc_averages(avg_speed):\n",
    "    for each in cars:\n",
    "        avg_speed += int(each[0])\n",
    "        # print(each[0])\n",
    "    # input(\"enter\")\n",
    "    return avg_speed/30"
   ]
  },
  {
   "cell_type": "code",
   "execution_count": null,
   "metadata": {
    "collapsed": true
   },
   "outputs": [],
   "source": [
    "def check_distance(min_dist):\n",
    "    for i in range((num_cars-1)):\n",
    "        dist = cars[i+1][2] - cars[i][2]\n",
    "        dist -= 4\n",
    "        if dist < min_dist:\n",
    "            if cars[i][0] > cars[i+1][0]:\n",
    "                cars[i][0] = cars[i+1][0]\n",
    "            # car[i][2] -= 10\n",
    "            \n",
    "        if dist == 1:\n",
    "            cars[i][0] = 0\n",
    "            # car[i][2] -= 10"
   ]
  },
  {
   "cell_type": "code",
   "execution_count": null,
   "metadata": {
    "collapsed": true
   },
   "outputs": [],
   "source": [
    "def update_car_speed():\n",
    "    for each in cars:\n",
    "        each[0] += each[1]\n",
    "        if each[0] > 33:\n",
    "            each[0] = 33\n"
   ]
  },
  {
   "cell_type": "code",
   "execution_count": null,
   "metadata": {
    "collapsed": true
   },
   "outputs": [],
   "source": [
    "def update_car_position():\n",
    "    for each in cars:\n",
    "        each[2] += each[0]"
   ]
  },
  {
   "cell_type": "code",
   "execution_count": null,
   "metadata": {
    "collapsed": true
   },
   "outputs": [],
   "source": [
    "def switch_car_positions():\n",
    "    # pass\n",
    "    temp_holdr = cars[num_cars-1]\n",
    "    count = (num_cars-1)\n",
    "    while count > 0:\n",
    "        cars[count] = cars[count-1]\n",
    "        count -= 1\n",
    "    cars[0] = temp_holdr\n",
    "    cars[0][2] = 4"
   ]
  },
  {
   "cell_type": "code",
   "execution_count": null,
   "metadata": {
    "collapsed": true
   },
   "outputs": [],
   "source": [
    "def check_valid_position():\n",
    "    if cars[num_cars-1][2] > 999:\n",
    "        switch_car_positions()"
   ]
  },
  {
   "cell_type": "code",
   "execution_count": null,
   "metadata": {
    "collapsed": true
   },
   "outputs": [],
   "source": [
    "def random_slowdown():\n",
    "    for each in cars:\n",
    "        x = random.randint(0, 9)\n",
    "        if x == 5:\n",
    "            each[0] -= 4   # IF you change this to each[1] it accels like crazy\n",
    "            if each[0] < 0:\n",
    "                each[0] = 0"
   ]
  },
  {
   "cell_type": "code",
   "execution_count": null,
   "metadata": {
    "collapsed": true
   },
   "outputs": [],
   "source": [
    "inital_acceleration_period = True\n",
    "loops = 0\n",
    "avg_speed_list = []\n",
    "\n",
    "    # while loops < 100:\n",
    "    #     loops += 1\n",
    "    #     if loops > 25:\n",
    "    #         inital_acceleration_period = False\n",
    "    #\n",
    "    #     # print_them()\n",
    "    #\n",
    "    #     if inital_acceleration_period == False:\n",
    "    #         avg_speed_list.append(calc_averages(avg_speed))\n",
    "    #         avg_speed = 0"
   ]
  },
  {
   "cell_type": "code",
   "execution_count": null,
   "metadata": {
    "collapsed": true
   },
   "outputs": [],
   "source": [
    "def main():\n",
    "    # plot_cars(car)\n",
    "    check_distance(5)\n",
    "    update_car_speed()\n",
    "    update_car_position()\n",
    "    check_valid_position()\n",
    "    random_slowdown()"
   ]
  },
  {
   "cell_type": "code",
   "execution_count": null,
   "metadata": {
    "collapsed": true
   },
   "outputs": [],
   "source": [
    "fig, ax = plt.subplots(figsize=(20, 10))\n",
    "\n",
    "plt.title('Car Traffic Simulation (# of cars = 30)')\n",
    "plt.xlabel('Distance traveled (m)')\n",
    "plt.ylabel('Velocity (km/h)')\n",
    "plt.xlim((0, 1000))\n",
    "plt.ylim((0, 50))\n",
    "paths = ax.scatter(z, p, s=20, marker='s', cmap='set1', alpha=1)\n",
    "\n",
    "ani = animation.FuncAnimation(fig, animate, frames=None, init_func=None, fargs=None, blit=False, interval=100)\n",
    "plt.show()"
   ]
  },
  {
   "cell_type": "code",
   "execution_count": null,
   "metadata": {
    "collapsed": true
   },
   "outputs": [],
   "source": [
    "# plot_them()\n",
    "# input(\"ENTER\")\n",
    "# print(sum(avg_speed_list))\n",
    "#\n",
    "# averages_graph(avg_speed_list)\n",
    "#\n",
    "# std_dev(avg_speed_list)"
   ]
  }
 ],
 "metadata": {
  "kernelspec": {
   "display_name": "Python 3",
   "language": "python",
   "name": "python3"
  },
  "language_info": {
   "codemirror_mode": {
    "name": "ipython",
    "version": 3
   },
   "file_extension": ".py",
   "mimetype": "text/x-python",
   "name": "python",
   "nbconvert_exporter": "python",
   "pygments_lexer": "ipython3",
   "version": "3.5.1"
  }
 },
 "nbformat": 4,
 "nbformat_minor": 0
}
